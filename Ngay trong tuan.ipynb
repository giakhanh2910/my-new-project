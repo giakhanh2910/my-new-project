{
 "cells": [
  {
   "cell_type": "code",
   "execution_count": null,
   "id": "d23ecdd3",
   "metadata": {},
   "outputs": [],
   "source": [
    "nhap_so = int(input(\"Nhập vào số tương ứng từ 1 đến 7: \"))\n",
    "if nhap_so == 1:\n",
    "    print (\"Sunday\")\n",
    "elif nhap_so == 2:\n",
    "    print (\"Monday\")\n",
    "elif nhap_so == 3:\n",
    "    print (\"Tuesday\")\n",
    "elif nhap_so == 4:\n",
    "    print (\"Wednesday\")\n",
    "elif nhap_so == 5:\n",
    "    print (\"Thursday\")\n",
    "elif nhap_so == 6:\n",
    "    print (\"Friday\")\n",
    "else:\n",
    "    print (\"Saturday\")\n",
    "else:\n",
    "    print (\"Không có ngày này\")"
   ]
  }
 ],
 "metadata": {
  "kernelspec": {
   "display_name": "Python 3 (ipykernel)",
   "language": "python",
   "name": "python3"
  },
  "language_info": {
   "codemirror_mode": {
    "name": "ipython",
    "version": 3
   },
   "file_extension": ".py",
   "mimetype": "text/x-python",
   "name": "python",
   "nbconvert_exporter": "python",
   "pygments_lexer": "ipython3",
   "version": "3.9.7"
  }
 },
 "nbformat": 4,
 "nbformat_minor": 5
}
