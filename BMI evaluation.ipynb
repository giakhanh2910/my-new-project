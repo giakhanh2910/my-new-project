{
 "cells": [
  {
   "cell_type": "code",
   "execution_count": 3,
   "id": "9c97add7",
   "metadata": {},
   "outputs": [
    {
     "name": "stdout",
     "output_type": "stream",
     "text": [
      "Nhập cân nặng của bạn tính theo kí: 100\n",
      "Nhập chiều cao của bạn tính theo cm: 150\n",
      "Béo phì cấp độ I\n"
     ]
    }
   ],
   "source": [
    "wei = int(input(\"Nhập cân nặng của bạn tính theo kí: \"))\n",
    "hei = int(input(\"Nhập chiều cao của bạn tính theo cm: \"))\n",
    "BMI = (wei*100) / (hei*2) \n",
    "if BMI > 40:\n",
    "    print (\"Béo phì cấp độ III\")\n",
    "elif 35 <= BMI < 40:\n",
    "    print (\"Béo phì cấp độ II\")\n",
    "elif 30 <= BMI < 35:\n",
    "    print (\"Béo phì cấp độ I\")\n",
    "elif 25 <= BMI < 30:\n",
    "    print (\"Thừa cân\")\n",
    "elif 18.5 <= BMI < 25:\n",
    "    print (\"Bình thường\")\n",
    "elif 17 <= BMI < 18.5:\n",
    "    print (\"Gầy cấp độ I\")\n",
    "elif 16 <= BMI < 17:\n",
    "    print (\"Gầy cấp độ II\")\n",
    "elif BMI < 16:\n",
    "    print (\"Gầy cấp độ III\")"
   ]
  }
 ],
 "metadata": {
  "kernelspec": {
   "display_name": "Python 3 (ipykernel)",
   "language": "python",
   "name": "python3"
  },
  "language_info": {
   "codemirror_mode": {
    "name": "ipython",
    "version": 3
   },
   "file_extension": ".py",
   "mimetype": "text/x-python",
   "name": "python",
   "nbconvert_exporter": "python",
   "pygments_lexer": "ipython3",
   "version": "3.9.7"
  }
 },
 "nbformat": 4,
 "nbformat_minor": 5
}
