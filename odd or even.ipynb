{
 "cells": [
  {
   "cell_type": "code",
   "execution_count": 2,
   "id": "b90b416a",
   "metadata": {},
   "outputs": [
    {
     "name": "stdout",
     "output_type": "stream",
     "text": [
      "Nhập số cần kiểm tra: 666\n",
      "Đây là số chẵn\n"
     ]
    }
   ],
   "source": [
    "num = float(input(\"Nhập số cần kiểm tra: \"))\n",
    "a = num % 2\n",
    "if a == 0:\n",
    "    print(\"Đây là số chẵn\")\n",
    "elif a == 1:\n",
    "    print(\"Đây là số lẻ\")\n",
    "else:\n",
    "    print(\"Đây không là số tự nhiên\")"
   ]
  }
 ],
 "metadata": {
  "kernelspec": {
   "display_name": "Python 3 (ipykernel)",
   "language": "python",
   "name": "python3"
  },
  "language_info": {
   "codemirror_mode": {
    "name": "ipython",
    "version": 3
   },
   "file_extension": ".py",
   "mimetype": "text/x-python",
   "name": "python",
   "nbconvert_exporter": "python",
   "pygments_lexer": "ipython3",
   "version": "3.9.7"
  }
 },
 "nbformat": 4,
 "nbformat_minor": 5
}
