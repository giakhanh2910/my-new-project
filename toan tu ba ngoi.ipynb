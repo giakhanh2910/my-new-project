{
 "cells": [
  {
   "cell_type": "code",
   "execution_count": 3,
   "id": "a2f25c51",
   "metadata": {},
   "outputs": [
    {
     "name": "stdout",
     "output_type": "stream",
     "text": [
      "Nhập số cần kiểm tra: 7\n",
      "Đây là số lẻ\n"
     ]
    }
   ],
   "source": [
    "num = int(input(\"Nhập số cần kiểm tra: \"))\n",
    "\n",
    "a = num % 2\n",
    "print (\"Đây là số chẵn\") if a == 0 else print (\"Đây là số lẻ\")"
   ]
  }
 ],
 "metadata": {
  "kernelspec": {
   "display_name": "Python 3 (ipykernel)",
   "language": "python",
   "name": "python3"
  },
  "language_info": {
   "codemirror_mode": {
    "name": "ipython",
    "version": 3
   },
   "file_extension": ".py",
   "mimetype": "text/x-python",
   "name": "python",
   "nbconvert_exporter": "python",
   "pygments_lexer": "ipython3",
   "version": "3.9.7"
  }
 },
 "nbformat": 4,
 "nbformat_minor": 5
}
