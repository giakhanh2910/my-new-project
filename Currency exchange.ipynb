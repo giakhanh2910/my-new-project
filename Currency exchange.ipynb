{
 "cells": [
  {
   "cell_type": "code",
   "execution_count": 1,
   "id": "b4c8adff",
   "metadata": {},
   "outputs": [
    {
     "name": "stdout",
     "output_type": "stream",
     "text": [
      "Nhap vao so tien can doi (USD): 100\n",
      "Vậy số tiền Việt Nam tương ứng là:  2340000\n"
     ]
    }
   ],
   "source": [
    "tien_te = int(input(\"Nhap vao so tien can doi (USD): \"))\n",
    "import math\n",
    "tien_viet_nam = tien_te * 23400 \n",
    "print (\"Vậy số tiền Việt Nam tương ứng là: \", tien_viet_nam)"
   ]
  }
 ],
 "metadata": {
  "kernelspec": {
   "display_name": "Python 3 (ipykernel)",
   "language": "python",
   "name": "python3"
  },
  "language_info": {
   "codemirror_mode": {
    "name": "ipython",
    "version": 3
   },
   "file_extension": ".py",
   "mimetype": "text/x-python",
   "name": "python",
   "nbconvert_exporter": "python",
   "pygments_lexer": "ipython3",
   "version": "3.9.7"
  }
 },
 "nbformat": 4,
 "nbformat_minor": 5
}
