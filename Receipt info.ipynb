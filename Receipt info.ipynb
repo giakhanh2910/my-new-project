{
 "cells": [
  {
   "cell_type": "code",
   "execution_count": 5,
   "id": "bf386d1b",
   "metadata": {},
   "outputs": [
    {
     "name": "stdout",
     "output_type": "stream",
     "text": [
      "Cho tôi biết giá trị bạn mua: 65\n",
      "Số tiền bạn cần trả sẽ là  65\n"
     ]
    }
   ],
   "source": [
    "num = int(input(\"Cho tôi biết giá trị bạn mua: \"))\n",
    "if 75 <= num < 100 :\n",
    "    print (\"Số tiền bạn cần trả sẽ là \", num - 15)\n",
    "elif 100 <= num < 150:\n",
    "    print (\"Số tiền bạn cần trả sẽ là \", num - 25)\n",
    "elif num >= 150:\n",
    "    print (\"Số tiền bạn cần trả sẽ là \", num - 50)\n",
    "else:\n",
    "    print (\"Số tiền bạn cần trả sẽ là \", num)"
   ]
  }
 ],
 "metadata": {
  "kernelspec": {
   "display_name": "Python 3 (ipykernel)",
   "language": "python",
   "name": "python3"
  },
  "language_info": {
   "codemirror_mode": {
    "name": "ipython",
    "version": 3
   },
   "file_extension": ".py",
   "mimetype": "text/x-python",
   "name": "python",
   "nbconvert_exporter": "python",
   "pygments_lexer": "ipython3",
   "version": "3.9.7"
  }
 },
 "nbformat": 4,
 "nbformat_minor": 5
}
