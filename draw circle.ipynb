{
 "cells": [
  {
   "cell_type": "code",
   "execution_count": null,
   "id": "7fe3bb4a",
   "metadata": {},
   "outputs": [
    {
     "name": "stdout",
     "output_type": "stream",
     "text": [
      "Requirement already satisfied: turtle in /Library/Frameworks/Python.framework/Versions/3.9/lib/python3.9/site-packages (0.0.1)\r\n",
      "Requirement already satisfied: PyYAML>=3.08 in /Library/Frameworks/Python.framework/Versions/3.9/lib/python3.9/site-packages (from turtle) (5.4.1)\r\n"
     ]
    }
   ],
   "source": [
    "! pip3 install turtle\n",
    "import turtle\n",
    "pen = turtle.Turtle\n",
    "turtle. pensize(5)\n",
    "turtle. pencolor (\"red\")\n",
    "turtle.Turtle().goto(-40, 120)\n",
    "turtle.fillcolor (\"blue\")\n",
    "turtle.begin_fill()\n",
    "turtle.circle (150)\n",
    "turtle.end_fill()\n",
    "turtle.done ()"
   ]
  }
 ],
 "metadata": {
  "kernelspec": {
   "display_name": "Python 3 (ipykernel)",
   "language": "python",
   "name": "python3"
  },
  "language_info": {
   "codemirror_mode": {
    "name": "ipython",
    "version": 3
   },
   "file_extension": ".py",
   "mimetype": "text/x-python",
   "name": "python",
   "nbconvert_exporter": "python",
   "pygments_lexer": "ipython3",
   "version": "3.9.7"
  }
 },
 "nbformat": 4,
 "nbformat_minor": 5
}
